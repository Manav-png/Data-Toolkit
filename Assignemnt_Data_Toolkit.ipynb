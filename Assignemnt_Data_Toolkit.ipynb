{
  "nbformat": 4,
  "nbformat_minor": 0,
  "metadata": {
    "colab": {
      "provenance": []
    },
    "kernelspec": {
      "name": "python3",
      "display_name": "Python 3"
    },
    "language_info": {
      "name": "python"
    }
  },
  "cells": [
    {
      "cell_type": "markdown",
      "source": [
        "# **Data** **Toolkit**\n",
        "\n",
        "---\n",
        "###1)  What is NumPy, and why is it widely used in Python?\n",
        "\n",
        "\n",
        " NumPy (Numerical Python) is a powerful library for numerical computing in Python. It offers:\n",
        "\n",
        "✔ High-performance multi-dimensional arrays\n",
        "\n",
        "✔ Efficient mathematical & statistical functions\n",
        "\n",
        "✔ Vectorized operations for speed optimization\n",
        "\n",
        "✔ Broadcasting for handling different-sized arrays\n",
        "\n",
        "✔ Memory-efficient computations\n",
        "\n",
        "✔ Foundation for data science & ML libraries\n",
        "\n",
        "NumPy is widely used because it offers fast and memory-efficient numerical computations with its optimized multi-dimensional arrays. It supports vectorized operations, eliminating the need for loops, and provides broadcasting, allowing operations on different-sized arrays. With built-in mathematical, statistical, and linear algebra functions, it is essential for scientific computing, data science, and machine learning. NumPy also integrates seamlessly with libraries like Pandas, SciPy, and TensorFlow, making it a cornerstone of Python’s data ecosystem.\n",
        "\n",
        "\n",
        "---\n",
        "\n",
        "\n",
        "\n",
        "###2)  How does broadcasting work in NumPy?\n",
        "\n",
        "Broadcasting in NumPy allows operations on arrays of different shapes by automatically expanding smaller arrays without copying data. It follows alignment rules, resizing dimensions where necessary. This makes computations faster, memory-efficient, and more concise, avoiding explicit loops.\n",
        "\n",
        "---\n",
        "\n",
        "###3)  What is a Pandas DataFrame?\n",
        "\n",
        "A Pandas DataFrame is a two-dimensional, tabular data structure in Python, similar to an Excel sheet or SQL table. It consists of labeled rows and columns, allowing storage of different data types like integers, floats, and strings. With built-in functions for data manipulation, analysis, and transformation, it is widely used in data science, machine learning, and statistical analysis for handling structured data efficiently.\n",
        "\n",
        "---\n",
        "\n",
        "###4)  Explain the use of the groupby() method in Pandas.\n",
        "\n",
        "The groupby() method in Pandas is used to group data based on one or more columns and perform aggregate operations such as sum, mean, count, min, and max. It helps in data analysis and summarization by splitting the dataset into smaller groups, applying functions, and combining the results. This method is widely used for categorizing, filtering, and transforming data efficiently, making it essential for data analysis and reporting in Pandas.\n",
        "\n",
        "---\n",
        "\n",
        "###5) Why is Seaborn preferred for statistical visualizations?\n",
        "\n",
        "Seaborn is preferred for statistical visualizations because it provides high-level, aesthetically pleasing, and informative charts with minimal code. Built on Matplotlib, it offers advanced features like automatic handling of complex datasets, built-in statistical functions, and attractive default themes. Seaborn simplifies the creation of histograms, scatter plots, box plots, and heatmaps, making it ideal for data exploration and analysis. Its ability to integrate well with Pandas DataFrames and support for multi-variable relationships makes it a go-to library for data scientists and analysts.\n",
        "\n",
        "---\n",
        "\n",
        "###6) What are the differences between NumPy arrays and Python lists?\n",
        "\n",
        "#####Differences Between NumPy Arrays and Python Lists\n",
        "\n",
        "        1. Performance\n",
        "  NumPy arrays are faster as they use an optimized C-based implementation and store elements in contiguous memory.\n",
        "  \n",
        "   Python lists are slower due to dynamic typing and memory overhead.\n",
        "\n",
        "        2. Memory Efficiency\n",
        "  NumPy arrays consume less memory because they store elements of the same data type in a compact format.\n",
        "  \n",
        "  Python lists, on the other hand, allow mixed data types, leading to increased memory usage.\n",
        "\n",
        "        3. Data Type Handling\n",
        "  NumPy enforces homogeneous data types, meaning all elements in an array must be of the same type.\n",
        "  \n",
        "   Python lists are heterogeneous, allowing different data types within the same list, which reduces efficiency.\n",
        "\n",
        "        4. Operations\n",
        "NumPy supports vectorized operations, allowing element-wise computations without loops.\n",
        "\n",
        "  Python lists require explicit iteration, making operations less efficient for large datasets.\n",
        "\n",
        "        5. Functionality\n",
        "\n",
        "  NumPy provides built-in mathematical functions, broadcasting, and multi-dimensional support, making it ideal for scientific computing and data analysis.\n",
        "\n",
        " Python lists, however, offer limited mathematical functionality and lack built-in support for numerical computations.\n",
        "\n",
        "\n",
        "###7)  What is a heatmap, and when should it be used?\n",
        "\n",
        "A heatmap is a data visualization technique that represents values in a matrix or dataset using colors. Higher values are typically shown in darker or more intense colors, while lower values appear in lighter shades.\n",
        "\n",
        "######***It Should Be Used For***:\n",
        "Correlation Analysis\n",
        "  \n",
        "  • To visualize relationships between variables in a dataset.\n",
        "\n",
        "Feature Selection\n",
        "\n",
        "  • To identify important variables in machine learning.\n",
        "\n",
        "Pattern Recognition\n",
        "  \n",
        "   • To detect trends, clusters, or anomalies in data.\n",
        "\n",
        "\n",
        "Comparing Large Datasets\n",
        "\n",
        "  • To quickly interpret complex numerical data\n",
        "\n",
        "  ---\n",
        "\n",
        "###8) What does the term “vectorized operation” mean in NumPy?\n",
        "\n",
        "A vectorized operation performs element-wise computations on arrays without explicit loops, making operations faster and more efficient. It leverages low-level optimizations for speed, memory efficiency, and cleaner code, making it essential for data science and numerical computing.\n",
        "\n",
        "---\n",
        "\n",
        "###9) How does Matplotlib differ from Plotly?\n",
        "\n",
        "####Differences Between Matplotlib and Plotly\n",
        "    1. Visualization Type\n",
        "Matplotlib is mainly used for static plots, making it suitable for research papers and reports.\n",
        "\n",
        "Plotly, however, focuses on interactive and dynamic visualizations, ideal for dashboards and web applications.\n",
        "\n",
        "    2. Interactivity\n",
        "Matplotlib provides limited interactivity, requiring additional libraries like Seaborn for enhancements.\n",
        "\n",
        "Plotly offers built-in interactive features such as zooming, hovering, and tooltips.\n",
        "\n",
        "    3. Customization\n",
        "Matplotlib allows extensive customization, but it often requires more code.\n",
        "\n",
        "Plotly has pre-styled themes and intuitive functions, making complex visualizations easier to create.\n",
        "\n",
        "    4. Ease of Use\n",
        "Matplotlib has a steeper learning curve, especially for advanced plots.\n",
        "Plotly’s simpler syntax makes it more user-friendly for interactive charts.\n",
        "\n",
        "    5. 3D & Animations\n",
        "Matplotlib supports 3D plots but has limited animation capabilities.\n",
        "\n",
        "Plotly provides strong support for 3D visualizations and animations, making it more versatile for dynamic presentations.\n",
        "\n",
        "    6. Use Case\n",
        "Matplotlib is best for static, publication-quality graphs in research and technical work.\n",
        "\n",
        "Plotly is ideal for interactive data visualizations, web applications, and dashboards.\n",
        "\n",
        "------\n",
        "\n",
        "###10)  What is the significance of hierarchical indexing in Pandas?\n",
        "\n",
        "* Hierarchical indexing in Pandas allows for multiple index levels, making it easier to organize and retrieve complex datasets efficiently.\n",
        "\n",
        "* It simplifies the management of large and structured data by enabling multi-level filtering and selection.\n",
        "* This feature enhances grouping, aggregation, and pivot table operations, making data analysis more intuitive.\n",
        "* It is particularly useful for handling multi-dimensional data within a 2D DataFrame, commonly applied in time series, financial analysis, and multi-indexed datasets.\n",
        "* By improving data organization and retrieval, hierarchical indexing plays a crucial role in structured data processing and advanced analytics.\n",
        "---\n",
        "\n",
        "\n",
        "###11) What is the role of Seaborn’s pairplot() function?\n",
        "\n",
        "* Seaborn’s pairplot() function is used for visualizing relationships between multiple numerical variables in a dataset by generating a grid of scatter plots and histograms.\n",
        "* It is particularly useful for exploratory data analysis (EDA), helping to identify trends, correlations, and distributions.\n",
        "* The function plots pairwise relationships between numerical variables while displaying histograms or KDE plots along the diagonal to show individual distributions.\n",
        "* Additionally, it allows for categorical grouping by color-coding data points based on a categorical variable. pairplot() is widely used in data science and machine learning for quickly analyzing dataset structures before further modeling.\n",
        "\n",
        "\n",
        "---\n",
        "\n",
        "###12) What is the purpose of the describe() function in Pandas?\n",
        "\n",
        "* The describe() function in Pandas provides a statistical summary of a DataFrame, offering key insights into numerical and categorical data.\n",
        "* It returns essential measures such as count, mean, standard deviation, min, max, and quartiles for numerical columns, helping to understand the distribution and spread of data.\n",
        "* Additionally, when applied to categorical columns, it provides count, unique values, top category, and frequency.\n",
        "* This function is useful for data cleaning, validation, and identifying missing values or outliers, making it a crucial tool for exploratory data analysis (EDA).\n",
        "\n",
        "---\n",
        "\n",
        "###13) A Why is handling missing data important in Pandas?\n",
        "\n",
        "***Ensures Data Accuracy*** • Missing values can lead to incorrect analysis and unreliable insights.\n",
        "\n",
        "***Prevents Errors in Computation*** • Many mathematical operations and machine learning models cannot handle missing data properly.\n",
        "\n",
        "***Improves Model Performance*** • Filling or removing missing values ensures better predictive accuracy in data-driven models.\n",
        "\n",
        "***Maintains Dataset Integrity*** • Handling missing data prevents bias and ensures the dataset remains representative of the real-world scenario.\n",
        "\n",
        "***Enhances Data Visualization*** • Missing values can distort visualizations, leading to misinterpretations.\n",
        "\n",
        "---\n",
        "\n",
        "###14) What are the benefits of using Plotly for data visualization?\n",
        "\n",
        "***Interactivity*** • Offers zooming, panning, tooltips, and hovering for better data exploration.\n",
        "\n",
        "***High-Quality Visuals*** • Provides modern, visually appealing, and publication-ready charts.\n",
        "\n",
        "***Wide Range of Charts*** • Supports line charts, bar graphs, heatmaps, 3D plots, animations, and more.\n",
        "\n",
        "***Ease of Use*** • Simple syntax with built-in themes, reducing the effort needed for styling.\n",
        "\n",
        "***Customization*** • Allows deep customization of colors, labels, and layouts.\n",
        "\n",
        "***Dash Integration*** • Easily integrates with Dash for building interactive web-based dashboards.\n",
        "\n",
        "***Web-Friendly*** • Generates interactive plots that can be embedded in web applications and shared online.\n",
        "\n",
        "---\n",
        "###15) A How does NumPy handle multidimensional arrays?\n",
        "\n",
        "* NumPy handles multidimensional arrays using the ndarray object, which allows efficient storage and manipulation of 1D, 2D, and n-dimensional data.\n",
        "* It provides optimized indexing and slicing, making it easy to access specific elements or sub-arrays. Broadcasting enables operations between arrays of different shapes without explicit loops, improving performance.\n",
        "* NumPy also ensures efficient memory usage by storing elements in a compact form, making computations faster than using nested Python lists.\n",
        "* Additionally, it offers built-in mathematical functions for operations like matrix multiplication, reshaping, and transposition.\n",
        "\n",
        "---\n",
        "\n",
        "###16) What is the role of Bokeh in data visualization?\n",
        "\n",
        "* Bokeh is a Python library for interactive data visualization, designed to create high-performance, web-friendly charts and dashboards.\n",
        "* It enables interactive features such as zooming, panning, and tooltips, making data exploration more engaging. Bokeh seamlessly integrates with web technologies, generating HTML and JavaScript-based visualizations that can be embedded in web applications.\n",
        "* It efficiently handles large datasets, ensuring smooth rendering and performance. With support for various chart types, including scatter plots, bar charts, heatmaps, and network graphs.\n",
        "* Bokeh is widely used for real-time data visualization, dashboards, and business intelligence applications.\n",
        "\n",
        "---\n",
        "\n",
        "###17)  Explain the difference between apply() and map() in Pandas.\n",
        "\n",
        "***1. Functionality***\n",
        "\n",
        "*apply()* • Used to apply a function to rows or columns of a DataFrame or to each element of a Series.\n",
        "\n",
        "*map()* • Works only on Series and applies a function to each element.\n",
        "\n",
        "***2. Scope of Use***\n",
        "\n",
        "*apply()* • Can be used on both DataFrames and Series for row-wise or column-wise operations.\n",
        "\n",
        "*map()*• Works only on Series, making it useful for element-wise transformations.\n",
        "\n",
        "***3. Handling Complex Functions***\n",
        "\n",
        "*apply()* • Can handle more complex operations, including lambda functions and multiple arguments.\n",
        "\n",
        "*map()* • Used for simpler functions like modifying individual values.\n",
        "\n",
        "***4. Use Case Examples***\n",
        "\n",
        "*apply()* • Ideal for applying a function row-wise (axis=1) or column-wise (axis=0) in a DataFrame.\n",
        "\n",
        "*map()* • Best for element-wise transformations on a Pandas Series.\n",
        "\n",
        "---\n",
        "\n",
        "###18)  What are some advanced features of NumPy?\n",
        "\n",
        "***Broadcasting:*** Allows operations on arrays of different shapes without explicit resizing.\n",
        "\n",
        "***Vectorized Operations:*** Enables fast, element-wise computations without loops.\n",
        "\n",
        "***Multidimensional Arrays (ndarray):*** Efficient handling of high-dimensional data.\n",
        "\n",
        "***Linear Algebra Functions:*** Supports matrix multiplication, eigenvalues, and decompositions.\n",
        "\n",
        "***FFT (Fast Fourier Transform):***  Performs fast signal and frequency analysis.\n",
        "\n",
        "***Random Module:*** Generates random numbers, distributions, and simulations.\n",
        "\n",
        "***Memory Mapping:*** Works with large datasets efficiently without loading them into memory.\n",
        "\n",
        "***Masked Arrays:*** Handles missing or invalid values gracefully.\n",
        "\n",
        "***Integration with C/C++ & Fortran:*** Enables high-performance computing and custom function implementation.\n",
        "\n",
        "---\n",
        "\n",
        "###19)  How does Pandas simplify time series analysis?\n",
        "\n",
        "***Datetime Indexing:*** Provides DatetimeIndex for easy indexing, slicing, and filtering of time-based data.\n",
        "\n",
        "***Resampling:*** Allows aggregation of time series data at different intervals (e.g., daily to monthly).\n",
        "\n",
        "***Shifting & Lagging:*** Enables easy time-based calculations like moving averages and trend analysis.\n",
        "\n",
        "***Built-in Time Functions:*** Supports parsing, formatting, and time zone handling with pd.to_datetime().\n",
        "\n",
        "***Rolling & Expanding Windows:*** Facilitates calculations like moving averages and cumulative sums.\n",
        "\n",
        "***Handling Missing Dates:*** Automatically fills or interpolates missing time-based values.\n",
        "\n",
        "---\n",
        "\n",
        "###20) What is the role of a pivot table in Pandas?\n",
        "\n",
        "A pivot table in Pandas is used to summarize and reorganize data by applying aggregation functions like sum, mean, and count. It helps in reshaping data, handling missing values, and supporting multi-level indexing for detailed analysis. Pivot tables are widely used in data analysis and business intelligence for quick and insightful summaries.\n",
        "\n",
        "---\n",
        "\n",
        "###21) A Why is NumPy’s array slicing faster than Python’s list slicing?\n",
        "\n",
        "NumPy’s array slicing is faster than Python’s list slicing because it uses contiguous memory storage, enabling efficient access. Unlike lists, NumPy slices return a view instead of a copy, reducing memory usage. Additionally, NumPy is implemented in C and supports vectorized operations, eliminating the need for explicit loops. These optimizations make NumPy slicing faster and more memory-efficient than traditional Python lists.\n",
        "\n",
        "---\n",
        "\n",
        "###22)  What are some common use cases for Seaborn?\n",
        "\n",
        "***Exploratory Data Analysis (EDA):*** Quickly visualize distributions, relationships, and trends in data.\n",
        "\n",
        "***Statistical Visualizations:*** Create histograms, box plots, and violin plots to analyze distributions.\n",
        "\n",
        "***Correlation Analysis:*** Use heatmaps to explore relationships between variables.\n",
        "\n",
        "***Categorical Data Visualization:*** Display grouped data using bar plots, count plots, and swarm plots.\n",
        "\n",
        "***Regression Analysis:*** Plot linear relationships between variables with regplot() and lmplot().\n",
        "\n",
        "***Time Series Analysis:*** Visualize trends over time with line plots.\n",
        "\n",
        "---"
      ],
      "metadata": {
        "id": "xnbZnvZuNHGc"
      }
    },
    {
      "cell_type": "code",
      "source": [
        "#**Practical**\n",
        "\n",
        "\n",
        "#1) A How do you create a 2D NumPy array and calculate the sum of each row.\n",
        "\n",
        "# A 2D NumPy array can be created using np.array(), and the sum of each row can be computed using np.sum() with axis=1.\n",
        " #  *Creating a 2D NumPy array*\n",
        "\n",
        "import numpy as np\n",
        "arr = np.array([[1, 2, 3],\n",
        "                [4, 5, 6],\n",
        "                [7, 8, 9]])\n",
        "\n",
        " #   *Calculating the sum of each row*\n",
        "row_sums = np.sum(arr, axis=1)\n",
        "print(row_sums)\n",
        "\n"
      ],
      "metadata": {
        "colab": {
          "base_uri": "https://localhost:8080/"
        },
        "id": "8j9FWypnSUQe",
        "outputId": "978fce66-8525-41c4-8f62-bc27994bbf8b"
      },
      "execution_count": 3,
      "outputs": [
        {
          "output_type": "stream",
          "name": "stdout",
          "text": [
            "[ 6 15 24]\n"
          ]
        }
      ]
    },
    {
      "cell_type": "code",
      "source": [
        "#2)  Write a Pandas script to find the mean of a specific column in a DataFrame.\n",
        "\n",
        "import pandas as pd\n",
        "\n",
        "# Creating a sample DataFrame\n",
        "data = {'Name': ['Alice', 'Bob', 'Charlie'],\n",
        "        'Age': [25, 30, 35],\n",
        "        'Salary': [50000, 60000, 70000]}\n",
        "\n",
        "df = pd.DataFrame(data)\n",
        "\n",
        "# Finding the mean of the 'Salary' column\n",
        "mean_salary = df['Salary'].mean()\n",
        "\n",
        "print(\"Mean Salary:\", mean_salary)\n"
      ],
      "metadata": {
        "colab": {
          "base_uri": "https://localhost:8080/"
        },
        "id": "iXXXZko1SgKV",
        "outputId": "f8500d66-f8ba-4889-d228-f1e1b4c9d59e"
      },
      "execution_count": 4,
      "outputs": [
        {
          "output_type": "stream",
          "name": "stdout",
          "text": [
            "Mean Salary: 60000.0\n"
          ]
        }
      ]
    },
    {
      "cell_type": "code",
      "source": [
        "#3)  Create a scatter plot using Matplotlib\n",
        "\n",
        "import matplotlib.pyplot as plt\n",
        "\n",
        "# Sample data\n",
        "x = [10, 20, 30, 40, 50]\n",
        "y = [5, 15, 25, 35, 45]\n",
        "\n",
        "# Creating the scatter plot\n",
        "plt.scatter(x, y, color='blue', marker='o')\n",
        "\n",
        "# Adding labels and title\n",
        "plt.xlabel(\"X-axis\")\n",
        "plt.ylabel(\"Y-axis\")\n",
        "plt.title(\"Simple Scatter Plot\")\n",
        "\n",
        "# Displaying the plot\n",
        "plt.show()\n"
      ],
      "metadata": {
        "colab": {
          "base_uri": "https://localhost:8080/",
          "height": 472
        },
        "id": "nPZ67xv2TFjl",
        "outputId": "d21719f5-8258-4318-bca6-125e42c403f6"
      },
      "execution_count": 5,
      "outputs": [
        {
          "output_type": "display_data",
          "data": {
            "text/plain": [
              "<Figure size 640x480 with 1 Axes>"
            ],
            "image/png": "[encoded data removed]"
          },
          "metadata": {}
        }
      ]
    },
    {
      "cell_type": "code",
      "source": [
        "#4)  How do you calculate the correlation matrix using Seaborn and visualize it with a heatmap\n",
        "\n",
        "import pandas as pd\n",
        "import seaborn as sns\n",
        "import matplotlib.pyplot as plt\n",
        "\n",
        "# Sample DataFrame\n",
        "data = {'A': [1, 2, 3, 4, 5],\n",
        "        'B': [2, 4, 6, 8, 10],\n",
        "        'C': [5, 3, 2, 8, 7]}\n",
        "\n",
        "df = pd.DataFrame(data)\n",
        "\n",
        "# Calculate the correlation matrix\n",
        "corr_matrix = df.corr()\n",
        "\n",
        "# Create a heatmap\n",
        "sns.heatmap(corr_matrix, annot=True, cmap='coolwarm', fmt=\".2f\")\n",
        "\n",
        "# Add title\n",
        "plt.title(\"Correlation Matrix Heatmap\")\n",
        "\n",
        "# Show the plot\n",
        "plt.show()\n"
      ],
      "metadata": {
        "colab": {
          "base_uri": "https://localhost:8080/",
          "height": 452
        },
        "id": "RNt7pM6yTOyy",
        "outputId": "0c7b8d6b-32cd-4b0a-e5f3-34361bad856b"
      },
      "execution_count": 6,
      "outputs": [
        {
          "output_type": "display_data",
          "data": {
            "text/plain": [
              "<Figure size 640x480 with 2 Axes>"
            ],
            "image/png": "[encoded data removed]"
          },
          "metadata": {}
        }
      ]
    },
    {
      "cell_type": "code",
      "source": [
        "# 5) A Generate a bar plot using Plotly.\n",
        "\n",
        "import plotly.express as px\n",
        "\n",
        "# Sample data\n",
        "data = {'Category': ['A', 'B', 'C', 'D'],\n",
        "        'Values': [10, 20, 15, 25]}\n",
        "\n",
        "# Creating a bar plot\n",
        "fig = px.bar(data, x='Category', y='Values', title=\"Bar Plot Using Plotly\", color='Category')\n",
        "\n",
        "# Displaying the plot\n",
        "fig.show()\n"
      ],
      "metadata": {
        "colab": {
          "base_uri": "https://localhost:8080/",
          "height": 542
        },
        "id": "fG-ae29RThWL",
        "outputId": "39ae66cd-47dc-46aa-83d4-6272a82a9391"
      },
      "execution_count": 7,
      "outputs": [
        {
          "output_type": "display_data",
          "data": {
            "text/html": [
              "<html>\n",
              "<head><meta charset=\"utf-8\" /></head>\n",
              "<body>\n",
              "    <div>            <script src=\"https://cdnjs.cloudflare.com/ajax/libs/mathjax/2.7.5/MathJax.js?config=TeX-AMS-MML_SVG\"></script><script type=\"text/javascript\">if (window.MathJax && window.MathJax.Hub && window.MathJax.Hub.Config) {window.MathJax.Hub.Config({SVG: {font: \"STIX-Web\"}});}</script>                <script type=\"text/javascript\">window.PlotlyConfig = {MathJaxConfig: 'local'};</script>\n",
              "        <script charset=\"utf-8\" src=\"https://cdn.plot.ly/plotly-2.35.2.min.js\"></script>                <div id=\"963ff7fb-b82b-4897-b6d5-51b2045f133a\" class=\"plotly-graph-div\" style=\"height:525px; width:100%;\"></div>            <script type=\"text/javascript\">                                    window.PLOTLYENV=window.PLOTLYENV || {};                                    if (document.getElementById(\"963ff7fb-b82b-4897-b6d5-51b2045f133a\")) {                    Plotly.newPlot(                        \"963ff7fb-b82b-4897-b6d5-51b2045f133a\",                        [{\"alignmentgroup\":\"True\",\"hovertemplate\":\"Category=%{x}\\u003cbr\\u003eValues=%{y}\\u003cextra\\u003e\\u003c\\u002fextra\\u003e\",\"legendgroup\":\"A\",\"marker\":{\"color\":\"#636efa\",\"pattern\":{\"shape\":\"\"}},\"name\":\"A\",\"offsetgroup\":\"A\",\"orientation\":\"v\",\"showlegend\":true,\"textposition\":\"auto\",\"x\":[\"A\"],\"xaxis\":\"x\",\"y\":[10],\"yaxis\":\"y\",\"type\":\"bar\"},{\"alignmentgroup\":\"True\",\"hovertemplate\":\"Category=%{x}\\u003cbr\\u003eValues=%{y}\\u003cextra\\u003e\\u003c\\u002fextra\\u003e\",\"legendgroup\":\"B\",\"marker\":{\"color\":\"#EF553B\",\"pattern\":{\"shape\":\"\"}},\"name\":\"B\",\"offsetgroup\":\"B\",\"orientation\":\"v\",\"showlegend\":true,\"textposition\":\"auto\",\"x\":[\"B\"],\"xaxis\":\"x\",\"y\":[20],\"yaxis\":\"y\",\"type\":\"bar\"},{\"alignmentgroup\":\"True\",\"hovertemplate\":\"Category=%{x}\\u003cbr\\u003eValues=%{y}\\u003cextra\\u003e\\u003c\\u002fextra\\u003e\",\"legendgroup\":\"C\",\"marker\":{\"color\":\"#00cc96\",\"pattern\":{\"shape\":\"\"}},\"name\":\"C\",\"offsetgroup\":\"C\",\"orientation\":\"v\",\"showlegend\":true,\"textposition\":\"auto\",\"x\":[\"C\"],\"xaxis\":\"x\",\"y\":[15],\"yaxis\":\"y\",\"type\":\"bar\"},{\"alignmentgroup\":\"True\",\"hovertemplate\":\"Category=%{x}\\u003cbr\\u003eValues=%{y}\\u003cextra\\u003e\\u003c\\u002fextra\\u003e\",\"legendgroup\":\"D\",\"marker\":{\"color\":\"#ab63fa\",\"pattern\":{\"shape\":\"\"}},\"name\":\"D\",\"offsetgroup\":\"D\",\"orientation\":\"v\",\"showlegend\":true,\"textposition\":\"auto\",\"x\":[\"D\"],\"xaxis\":\"x\",\"y\":[25],\"yaxis\":\"y\",\"type\":\"bar\"}],                        {\"template\":{\"data\":{\"histogram2dcontour\":[{\"type\":\"histogram2dcontour\",\"colorbar\":{\"outlinewidth\":0,\"ticks\":\"\"},\"colorscale\":[[0.0,\"#0d0887\"],[0.1111111111111111,\"#46039f\"],[0.2222222222222222,\"#7201a8\"],[0.3333333333333333,\"#9c179e\"],[0.4444444444444444,\"#bd3786\"],[0.5555555555555556,\"#d8576b\"],[0.6666666666666666,\"#ed7953\"],[0.7777777777777778,\"#fb9f3a\"],[0.8888888888888888,\"#fdca26\"],[1.0,\"#f0f921\"]]}],\"choropleth\":[{\"type\":\"choropleth\",\"colorbar\":{\"outlinewidth\":0,\"ticks\":\"\"}}],\"histogram2d\":[{\"type\":\"histogram2d\",\"colorbar\":{\"outlinewidth\":0,\"ticks\":\"\"},\"colorscale\":[[0.0,\"#0d0887\"],[0.1111111111111111,\"#46039f\"],[0.2222222222222222,\"#7201a8\"],[0.3333333333333333,\"#9c179e\"],[0.4444444444444444,\"#bd3786\"],[0.5555555555555556,\"#d8576b\"],[0.6666666666666666,\"#ed7953\"],[0.7777777777777778,\"#fb9f3a\"],[0.8888888888888888,\"#fdca26\"],[1.0,\"#f0f921\"]]}],\"heatmap\":[{\"type\":\"heatmap\",\"colorbar\":{\"outlinewidth\":0,\"ticks\":\"\"},\"colorscale\":[[0.0,\"#0d0887\"],[0.1111111111111111,\"#46039f\"],[0.2222222222222222,\"#7201a8\"],[0.3333333333333333,\"#9c179e\"],[0.4444444444444444,\"#bd3786\"],[0.5555555555555556,\"#d8576b\"],[0.6666666666666666,\"#ed7953\"],[0.7777777777777778,\"#fb9f3a\"],[0.8888888888888888,\"#fdca26\"],[1.0,\"#f0f921\"]]}],\"heatmapgl\":[{\"type\":\"heatmapgl\",\"colorbar\":{\"outlinewidth\":0,\"ticks\":\"\"},\"colorscale\":[[0.0,\"#0d0887\"],[0.1111111111111111,\"#46039f\"],[0.2222222222222222,\"#7201a8\"],[0.3333333333333333,\"#9c179e\"],[0.4444444444444444,\"#bd3786\"],[0.5555555555555556,\"#d8576b\"],[0.6666666666666666,\"#ed7953\"],[0.7777777777777778,\"#fb9f3a\"],[0.8888888888888888,\"#fdca26\"],[1.0,\"#f0f921\"]]}],\"contourcarpet\":[{\"type\":\"contourcarpet\",\"colorbar\":{\"outlinewidth\":0,\"ticks\":\"\"}}],\"contour\":[{\"type\":\"contour\",\"colorbar\":{\"outlinewidth\":0,\"ticks\":\"\"},\"colorscale\":[[0.0,\"#0d0887\"],[0.1111111111111111,\"#46039f\"],[0.2222222222222222,\"#7201a8\"],[0.3333333333333333,\"#9c179e\"],[0.4444444444444444,\"#bd3786\"],[0.5555555555555556,\"#d8576b\"],[0.6666666666666666,\"#ed7953\"],[0.7777777777777778,\"#fb9f3a\"],[0.8888888888888888,\"#fdca26\"],[1.0,\"#f0f921\"]]}],\"surface\":[{\"type\":\"surface\",\"colorbar\":{\"outlinewidth\":0,\"ticks\":\"\"},\"colorscale\":[[0.0,\"#0d0887\"],[0.1111111111111111,\"#46039f\"],[0.2222222222222222,\"#7201a8\"],[0.3333333333333333,\"#9c179e\"],[0.4444444444444444,\"#bd3786\"],[0.5555555555555556,\"#d8576b\"],[0.6666666666666666,\"#ed7953\"],[0.7777777777777778,\"#fb9f3a\"],[0.8888888888888888,\"#fdca26\"],[1.0,\"#f0f921\"]]}],\"mesh3d\":[{\"type\":\"mesh3d\",\"colorbar\":{\"outlinewidth\":0,\"ticks\":\"\"}}],\"scatter\":[{\"fillpattern\":{\"fillmode\":\"overlay\",\"size\":10,\"solidity\":0.2},\"type\":\"scatter\"}],\"parcoords\":[{\"type\":\"parcoords\",\"line\":{\"colorbar\":{\"outlinewidth\":0,\"ticks\":\"\"}}}],\"scatterpolargl\":[{\"type\":\"scatterpolargl\",\"marker\":{\"colorbar\":{\"outlinewidth\":0,\"ticks\":\"\"}}}],\"bar\":[{\"error_x\":{\"color\":\"#2a3f5f\"},\"error_y\":{\"color\":\"#2a3f5f\"},\"marker\":{\"line\":{\"color\":\"#E5ECF6\",\"width\":0.5},\"pattern\":{\"fillmode\":\"overlay\",\"size\":10,\"solidity\":0.2}},\"type\":\"bar\"}],\"scattergeo\":[{\"type\":\"scattergeo\",\"marker\":{\"colorbar\":{\"outlinewidth\":0,\"ticks\":\"\"}}}],\"scatterpolar\":[{\"type\":\"scatterpolar\",\"marker\":{\"colorbar\":{\"outlinewidth\":0,\"ticks\":\"\"}}}],\"histogram\":[{\"marker\":{\"pattern\":{\"fillmode\":\"overlay\",\"size\":10,\"solidity\":0.2}},\"type\":\"histogram\"}],\"scattergl\":[{\"type\":\"scattergl\",\"marker\":{\"colorbar\":{\"outlinewidth\":0,\"ticks\":\"\"}}}],\"scatter3d\":[{\"type\":\"scatter3d\",\"line\":{\"colorbar\":{\"outlinewidth\":0,\"ticks\":\"\"}},\"marker\":{\"colorbar\":{\"outlinewidth\":0,\"ticks\":\"\"}}}],\"scattermapbox\":[{\"type\":\"scattermapbox\",\"marker\":{\"colorbar\":{\"outlinewidth\":0,\"ticks\":\"\"}}}],\"scatterternary\":[{\"type\":\"scatterternary\",\"marker\":{\"colorbar\":{\"outlinewidth\":0,\"ticks\":\"\"}}}],\"scattercarpet\":[{\"type\":\"scattercarpet\",\"marker\":{\"colorbar\":{\"outlinewidth\":0,\"ticks\":\"\"}}}],\"carpet\":[{\"aaxis\":{\"endlinecolor\":\"#2a3f5f\",\"gridcolor\":\"white\",\"linecolor\":\"white\",\"minorgridcolor\":\"white\",\"startlinecolor\":\"#2a3f5f\"},\"baxis\":{\"endlinecolor\":\"#2a3f5f\",\"gridcolor\":\"white\",\"linecolor\":\"white\",\"minorgridcolor\":\"white\",\"startlinecolor\":\"#2a3f5f\"},\"type\":\"carpet\"}],\"table\":[{\"cells\":{\"fill\":{\"color\":\"#EBF0F8\"},\"line\":{\"color\":\"white\"}},\"header\":{\"fill\":{\"color\":\"#C8D4E3\"},\"line\":{\"color\":\"white\"}},\"type\":\"table\"}],\"barpolar\":[{\"marker\":{\"line\":{\"color\":\"#E5ECF6\",\"width\":0.5},\"pattern\":{\"fillmode\":\"overlay\",\"size\":10,\"solidity\":0.2}},\"type\":\"barpolar\"}],\"pie\":[{\"automargin\":true,\"type\":\"pie\"}]},\"layout\":{\"autotypenumbers\":\"strict\",\"colorway\":[\"#636efa\",\"#EF553B\",\"#00cc96\",\"#ab63fa\",\"#FFA15A\",\"#19d3f3\",\"#FF6692\",\"#B6E880\",\"#FF97FF\",\"#FECB52\"],\"font\":{\"color\":\"#2a3f5f\"},\"hovermode\":\"closest\",\"hoverlabel\":{\"align\":\"left\"},\"paper_bgcolor\":\"white\",\"plot_bgcolor\":\"#E5ECF6\",\"polar\":{\"bgcolor\":\"#E5ECF6\",\"angularaxis\":{\"gridcolor\":\"white\",\"linecolor\":\"white\",\"ticks\":\"\"},\"radialaxis\":{\"gridcolor\":\"white\",\"linecolor\":\"white\",\"ticks\":\"\"}},\"ternary\":{\"bgcolor\":\"#E5ECF6\",\"aaxis\":{\"gridcolor\":\"white\",\"linecolor\":\"white\",\"ticks\":\"\"},\"baxis\":{\"gridcolor\":\"white\",\"linecolor\":\"white\",\"ticks\":\"\"},\"caxis\":{\"gridcolor\":\"white\",\"linecolor\":\"white\",\"ticks\":\"\"}},\"coloraxis\":{\"colorbar\":{\"outlinewidth\":0,\"ticks\":\"\"}},\"colorscale\":{\"sequential\":[[0.0,\"#0d0887\"],[0.1111111111111111,\"#46039f\"],[0.2222222222222222,\"#7201a8\"],[0.3333333333333333,\"#9c179e\"],[0.4444444444444444,\"#bd3786\"],[0.5555555555555556,\"#d8576b\"],[0.6666666666666666,\"#ed7953\"],[0.7777777777777778,\"#fb9f3a\"],[0.8888888888888888,\"#fdca26\"],[1.0,\"#f0f921\"]],\"sequentialminus\":[[0.0,\"#0d0887\"],[0.1111111111111111,\"#46039f\"],[0.2222222222222222,\"#7201a8\"],[0.3333333333333333,\"#9c179e\"],[0.4444444444444444,\"#bd3786\"],[0.5555555555555556,\"#d8576b\"],[0.6666666666666666,\"#ed7953\"],[0.7777777777777778,\"#fb9f3a\"],[0.8888888888888888,\"#fdca26\"],[1.0,\"#f0f921\"]],\"diverging\":[[0,\"#8e0152\"],[0.1,\"#c51b7d\"],[0.2,\"#de77ae\"],[0.3,\"#f1b6da\"],[0.4,\"#fde0ef\"],[0.5,\"#f7f7f7\"],[0.6,\"#e6f5d0\"],[0.7,\"#b8e186\"],[0.8,\"#7fbc41\"],[0.9,\"#4d9221\"],[1,\"#276419\"]]},\"xaxis\":{\"gridcolor\":\"white\",\"linecolor\":\"white\",\"ticks\":\"\",\"title\":{\"standoff\":15},\"zerolinecolor\":\"white\",\"automargin\":true,\"zerolinewidth\":2},\"yaxis\":{\"gridcolor\":\"white\",\"linecolor\":\"white\",\"ticks\":\"\",\"title\":{\"standoff\":15},\"zerolinecolor\":\"white\",\"automargin\":true,\"zerolinewidth\":2},\"scene\":{\"xaxis\":{\"backgroundcolor\":\"#E5ECF6\",\"gridcolor\":\"white\",\"linecolor\":\"white\",\"showbackground\":true,\"ticks\":\"\",\"zerolinecolor\":\"white\",\"gridwidth\":2},\"yaxis\":{\"backgroundcolor\":\"#E5ECF6\",\"gridcolor\":\"white\",\"linecolor\":\"white\",\"showbackground\":true,\"ticks\":\"\",\"zerolinecolor\":\"white\",\"gridwidth\":2},\"zaxis\":{\"backgroundcolor\":\"#E5ECF6\",\"gridcolor\":\"white\",\"linecolor\":\"white\",\"showbackground\":true,\"ticks\":\"\",\"zerolinecolor\":\"white\",\"gridwidth\":2}},\"shapedefaults\":{\"line\":{\"color\":\"#2a3f5f\"}},\"annotationdefaults\":{\"arrowcolor\":\"#2a3f5f\",\"arrowhead\":0,\"arrowwidth\":1},\"geo\":{\"bgcolor\":\"white\",\"landcolor\":\"#E5ECF6\",\"subunitcolor\":\"white\",\"showland\":true,\"showlakes\":true,\"lakecolor\":\"white\"},\"title\":{\"x\":0.05},\"mapbox\":{\"style\":\"light\"}}},\"xaxis\":{\"anchor\":\"y\",\"domain\":[0.0,1.0],\"title\":{\"text\":\"Category\"},\"categoryorder\":\"array\",\"categoryarray\":[\"A\",\"B\",\"C\",\"D\"]},\"yaxis\":{\"anchor\":\"x\",\"domain\":[0.0,1.0],\"title\":{\"text\":\"Values\"}},\"legend\":{\"title\":{\"text\":\"Category\"},\"tracegroupgap\":0},\"title\":{\"text\":\"Bar Plot Using Plotly\"},\"barmode\":\"relative\"},                        {\"responsive\": true}                    ).then(function(){\n",
              "                            \n",
              "var gd = document.getElementById('963ff7fb-b82b-4897-b6d5-51b2045f133a');\n",
              "var x = new MutationObserver(function (mutations, observer) {{\n",
              "        var display = window.getComputedStyle(gd).display;\n",
              "        if (!display || display === 'none') {{\n",
              "            console.log([gd, 'removed!']);\n",
              "            Plotly.purge(gd);\n",
              "            observer.disconnect();\n",
              "        }}\n",
              "}});\n",
              "\n",
              "// Listen for the removal of the full notebook cells\n",
              "var notebookContainer = gd.closest('#notebook-container');\n",
              "if (notebookContainer) {{\n",
              "    x.observe(notebookContainer, {childList: true});\n",
              "}}\n",
              "\n",
              "// Listen for the clearing of the current output cell\n",
              "var outputEl = gd.closest('.output');\n",
              "if (outputEl) {{\n",
              "    x.observe(outputEl, {childList: true});\n",
              "}}\n",
              "\n",
              "                        })                };                            </script>        </div>\n",
              "</body>\n",
              "</html>"
            ]
          },
          "metadata": {}
        }
      ]
    },
    {
      "cell_type": "code",
      "source": [
        "#6) Create a DataFrame and add a new column based on an existing column.\n",
        "\n",
        "import pandas as pd\n",
        "\n",
        "# Creating a sample DataFrame\n",
        "data = {'Name': ['Alice', 'Bob', 'Charlie'],\n",
        "        'Salary': [50000, 60000, 70000]}\n",
        "\n",
        "df = pd.DataFrame(data)\n",
        "\n",
        "# Adding a new column 'Bonus' (10% of Salary)\n",
        "df['Bonus'] = df['Salary'] * 0.10\n",
        "\n",
        "# Display the DataFrame\n",
        "print(df)\n"
      ],
      "metadata": {
        "colab": {
          "base_uri": "https://localhost:8080/"
        },
        "id": "zHBv_epZTqkC",
        "outputId": "51f53204-e724-4d7c-e3ac-53d6cb4ad388"
      },
      "execution_count": 8,
      "outputs": [
        {
          "output_type": "stream",
          "name": "stdout",
          "text": [
            "      Name  Salary   Bonus\n",
            "0    Alice   50000  5000.0\n",
            "1      Bob   60000  6000.0\n",
            "2  Charlie   70000  7000.0\n"
          ]
        }
      ]
    },
    {
      "cell_type": "code",
      "source": [
        "# 7) Write a program to perform element-wise multiplication of two NumPy arrays.\n",
        "\n",
        "import numpy as np\n",
        "\n",
        "# Creating two NumPy arrays\n",
        "arr1 = np.array([1, 2, 3, 4])\n",
        "arr2 = np.array([5, 6, 7, 8])\n",
        "\n",
        "# Performing element-wise multiplication\n",
        "result = arr1 * arr2\n",
        "\n",
        "# Display the result\n",
        "print(\"Element-wise Multiplication:\", result)\n"
      ],
      "metadata": {
        "colab": {
          "base_uri": "https://localhost:8080/"
        },
        "id": "AW2KYYiiUpoy",
        "outputId": "78dec645-7484-425d-e9bc-d3af02f4f718"
      },
      "execution_count": 9,
      "outputs": [
        {
          "output_type": "stream",
          "name": "stdout",
          "text": [
            "Element-wise Multiplication: [ 5 12 21 32]\n"
          ]
        }
      ]
    },
    {
      "cell_type": "code",
      "source": [
        "# 8) Create a line plot with multiple lines using Matplotlib\n",
        "\n",
        "import matplotlib.pyplot as plt\n",
        "\n",
        "# Sample data\n",
        "x = [1, 2, 3, 4, 5]\n",
        "y1 = [10, 20, 30, 40, 50]\n",
        "y2 = [5, 15, 25, 35, 45]\n",
        "\n",
        "# Creating the line plot\n",
        "plt.plot(x, y1, label=\"Line 1\", color='blue', marker='o')\n",
        "plt.plot(x, y2, label=\"Line 2\", color='red', marker='s')\n",
        "\n",
        "# Adding labels, title, and legend\n",
        "plt.xlabel(\"X-axis\")\n",
        "plt.ylabel(\"Y-axis\")\n",
        "plt.title(\"Line Plot with Multiple Lines\")\n",
        "plt.legend()\n",
        "\n",
        "# Display the plot\n",
        "plt.show()\n"
      ],
      "metadata": {
        "colab": {
          "base_uri": "https://localhost:8080/",
          "height": 472
        },
        "id": "GWV1IVTVUyJa",
        "outputId": "ce99cf7b-79e8-4383-c35d-9058188f103f"
      },
      "execution_count": 10,
      "outputs": [
        {
          "output_type": "display_data",
          "data": {
            "text/plain": [
              "<Figure size 640x480 with 1 Axes>"
            ],
            "image/png": "[encoded data removed]"
          },
          "metadata": {}
        }
      ]
    },
    {
      "cell_type": "code",
      "source": [
        "#9) Generate a Pandas DataFrame and filter rows where a column value is greater than a threshold.\n",
        "\n",
        "import pandas as pd\n",
        "\n",
        "# Creating a sample DataFrame\n",
        "data = {'Name': ['Alice', 'Bob', 'Charlie', 'David', 'Emma'],\n",
        "        'Salary': [50000, 60000, 55000, 70000, 48000]}\n",
        "\n",
        "df = pd.DataFrame(data)\n",
        "\n",
        "# Filtering rows where Salary is greater than 55000\n",
        "filtered_df = df[df['Salary'] > 55000]\n",
        "\n",
        "# Display the filtered DataFrame\n",
        "print(filtered_df)\n"
      ],
      "metadata": {
        "colab": {
          "base_uri": "https://localhost:8080/"
        },
        "id": "BNfTr9J-WtqC",
        "outputId": "56d591f8-9fab-446e-fda8-5a90d7c3cca0"
      },
      "execution_count": 11,
      "outputs": [
        {
          "output_type": "stream",
          "name": "stdout",
          "text": [
            "    Name  Salary\n",
            "1    Bob   60000\n",
            "3  David   70000\n"
          ]
        }
      ]
    },
    {
      "cell_type": "code",
      "source": [
        "#10) Create a histogram using Seaborn to visualize a distribution.\n",
        "\n",
        "import seaborn as sns\n",
        "import matplotlib.pyplot as plt\n",
        "\n",
        "# Sample data\n",
        "data = [10, 20, 20, 30, 30, 30, 40, 50, 50, 60, 70, 80, 80, 90, 100]\n",
        "\n",
        "# Creating the histogram\n",
        "sns.histplot(data, bins=10, kde=True, color='blue')\n",
        "\n",
        "# Adding labels and title\n",
        "plt.xlabel(\"Value\")\n",
        "plt.ylabel(\"Frequency\")\n",
        "plt.title(\"Histogram of Data Distribution\")\n",
        "\n",
        "# Display the plot\n",
        "plt.show()\n"
      ],
      "metadata": {
        "colab": {
          "base_uri": "https://localhost:8080/",
          "height": 472
        },
        "id": "G2OG_MjrXRvJ",
        "outputId": "753533f4-c8e8-4501-dab6-67d613b63def"
      },
      "execution_count": 12,
      "outputs": [
        {
          "output_type": "display_data",
          "data": {
            "text/plain": [
              "<Figure size 640x480 with 1 Axes>"
            ],
            "image/png": "[encoded data removed]"
          },
          "metadata": {}
        }
      ]
    },
    {
      "cell_type": "code",
      "source": [
        "#11) A Perform matrix multiplication using NumPy.\n",
        "\n",
        "import numpy as np\n",
        "\n",
        "# Creating two matrices\n",
        "A = np.array([[1, 2],\n",
        "              [3, 4]])\n",
        "\n",
        "B = np.array([[5, 6],\n",
        "              [7, 8]])\n",
        "\n",
        "# Matrix multiplication using np.dot() or @ operator\n",
        "result = np.dot(A, B)  # Alternatively, use: result = A @ B\n",
        "\n",
        "# Display the result\n",
        "print(\"Matrix Multiplication Result:\\n\", result)\n"
      ],
      "metadata": {
        "colab": {
          "base_uri": "https://localhost:8080/"
        },
        "id": "k4gqEP6vXbjJ",
        "outputId": "cdc13e96-9f1b-44b1-815b-80cf070ab7bc"
      },
      "execution_count": 13,
      "outputs": [
        {
          "output_type": "stream",
          "name": "stdout",
          "text": [
            "Matrix Multiplication Result:\n",
            " [[19 22]\n",
            " [43 50]]\n"
          ]
        }
      ]
    },
    {
      "cell_type": "code",
      "source": [
        "#12 A Use Pandas to load a CSV file and display its first 5 rowsA\n",
        "import pandas as pd\n",
        "\n",
        "# Creating a sample DataFrame\n",
        "data = {'Name': ['Alice', 'Bob', 'Charlie'],\n",
        "        'Age': [25, 30, 35]}\n",
        "\n",
        "df = pd.DataFrame(data)\n",
        "\n",
        "# Save it as a CSV file\n",
        "df.to_csv(\"data.csv\", index=False)\n",
        "\n",
        "# Load the newly created CSV\n",
        "df = pd.read_csv(\"data.csv\")\n",
        "print(df.head())\n",
        "\n"
      ],
      "metadata": {
        "colab": {
          "base_uri": "https://localhost:8080/"
        },
        "id": "ECX5WTlzXkh5",
        "outputId": "6beeb6af-4f93-4852-d17e-6104e87ae39d"
      },
      "execution_count": 20,
      "outputs": [
        {
          "output_type": "stream",
          "name": "stdout",
          "text": [
            "      Name  Age\n",
            "0    Alice   25\n",
            "1      Bob   30\n",
            "2  Charlie   35\n"
          ]
        }
      ]
    },
    {
      "cell_type": "code",
      "source": [
        "df = pd.read_csv(\"data.csv\")\n",
        "print(df.head())\n"
      ],
      "metadata": {
        "colab": {
          "base_uri": "https://localhost:8080/"
        },
        "id": "lQhEDlMrYEph",
        "outputId": "064f45f6-5d92-48e8-e3b0-4e61f770abba"
      },
      "execution_count": 22,
      "outputs": [
        {
          "output_type": "stream",
          "name": "stdout",
          "text": [
            "      Name  Age\n",
            "0    Alice   25\n",
            "1      Bob   30\n",
            "2  Charlie   35\n"
          ]
        }
      ]
    },
    {
      "cell_type": "code",
      "source": [
        "#13) A Create a 3D scatter plot using Plotly\n",
        "\n",
        "import plotly.express as px\n",
        "import pandas as pd\n",
        "\n",
        "# Sample Data\n",
        "data = {'X': [1, 2, 3, 4, 5],\n",
        "        'Y': [10, 20, 30, 40, 50],\n",
        "        'Z': [5, 15, 25, 35, 45]}\n",
        "\n",
        "df = pd.DataFrame(data)\n",
        "\n",
        "# Creating a 3D scatter plot\n",
        "fig = px.scatter_3d(df, x='X', y='Y', z='Z', color='Z', title=\"3D Scatter Plot\")\n",
        "\n",
        "# Display the plot\n",
        "fig.show()\n"
      ],
      "metadata": {
        "colab": {
          "base_uri": "https://localhost:8080/",
          "height": 542
        },
        "id": "d6SjLOxhZ5gB",
        "outputId": "e108d88a-468d-41db-8191-cc3e6af31e86"
      },
      "execution_count": 23,
      "outputs": [
        {
          "output_type": "display_data",
          "data": {
            "text/html": [
              "<html>\n",
              "<head><meta charset=\"utf-8\" /></head>\n",
              "<body>\n",
              "    <div>            <script src=\"https://cdnjs.cloudflare.com/ajax/libs/mathjax/2.7.5/MathJax.js?config=TeX-AMS-MML_SVG\"></script><script type=\"text/javascript\">if (window.MathJax && window.MathJax.Hub && window.MathJax.Hub.Config) {window.MathJax.Hub.Config({SVG: {font: \"STIX-Web\"}});}</script>                <script type=\"text/javascript\">window.PlotlyConfig = {MathJaxConfig: 'local'};</script>\n",
              "        <script charset=\"utf-8\" src=\"https://cdn.plot.ly/plotly-2.35.2.min.js\"></script>                <div id=\"8b74bbe3-bb05-45c1-8cce-3bf586ecb100\" class=\"plotly-graph-div\" style=\"height:525px; width:100%;\"></div>            <script type=\"text/javascript\">                                    window.PLOTLYENV=window.PLOTLYENV || {};                                    if (document.getElementById(\"8b74bbe3-bb05-45c1-8cce-3bf586ecb100\")) {                    Plotly.newPlot(                        \"8b74bbe3-bb05-45c1-8cce-3bf586ecb100\",                        [{\"hovertemplate\":\"X=%{x}\\u003cbr\\u003eY=%{y}\\u003cbr\\u003eZ=%{marker.color}\\u003cextra\\u003e\\u003c\\u002fextra\\u003e\",\"legendgroup\":\"\",\"marker\":{\"color\":[5,15,25,35,45],\"coloraxis\":\"coloraxis\",\"symbol\":\"circle\"},\"mode\":\"markers\",\"name\":\"\",\"scene\":\"scene\",\"showlegend\":false,\"x\":[1,2,3,4,5],\"y\":[10,20,30,40,50],\"z\":[5,15,25,35,45],\"type\":\"scatter3d\"}],                        {\"template\":{\"data\":{\"histogram2dcontour\":[{\"type\":\"histogram2dcontour\",\"colorbar\":{\"outlinewidth\":0,\"ticks\":\"\"},\"colorscale\":[[0.0,\"#0d0887\"],[0.1111111111111111,\"#46039f\"],[0.2222222222222222,\"#7201a8\"],[0.3333333333333333,\"#9c179e\"],[0.4444444444444444,\"#bd3786\"],[0.5555555555555556,\"#d8576b\"],[0.6666666666666666,\"#ed7953\"],[0.7777777777777778,\"#fb9f3a\"],[0.8888888888888888,\"#fdca26\"],[1.0,\"#f0f921\"]]}],\"choropleth\":[{\"type\":\"choropleth\",\"colorbar\":{\"outlinewidth\":0,\"ticks\":\"\"}}],\"histogram2d\":[{\"type\":\"histogram2d\",\"colorbar\":{\"outlinewidth\":0,\"ticks\":\"\"},\"colorscale\":[[0.0,\"#0d0887\"],[0.1111111111111111,\"#46039f\"],[0.2222222222222222,\"#7201a8\"],[0.3333333333333333,\"#9c179e\"],[0.4444444444444444,\"#bd3786\"],[0.5555555555555556,\"#d8576b\"],[0.6666666666666666,\"#ed7953\"],[0.7777777777777778,\"#fb9f3a\"],[0.8888888888888888,\"#fdca26\"],[1.0,\"#f0f921\"]]}],\"heatmap\":[{\"type\":\"heatmap\",\"colorbar\":{\"outlinewidth\":0,\"ticks\":\"\"},\"colorscale\":[[0.0,\"#0d0887\"],[0.1111111111111111,\"#46039f\"],[0.2222222222222222,\"#7201a8\"],[0.3333333333333333,\"#9c179e\"],[0.4444444444444444,\"#bd3786\"],[0.5555555555555556,\"#d8576b\"],[0.6666666666666666,\"#ed7953\"],[0.7777777777777778,\"#fb9f3a\"],[0.8888888888888888,\"#fdca26\"],[1.0,\"#f0f921\"]]}],\"heatmapgl\":[{\"type\":\"heatmapgl\",\"colorbar\":{\"outlinewidth\":0,\"ticks\":\"\"},\"colorscale\":[[0.0,\"#0d0887\"],[0.1111111111111111,\"#46039f\"],[0.2222222222222222,\"#7201a8\"],[0.3333333333333333,\"#9c179e\"],[0.4444444444444444,\"#bd3786\"],[0.5555555555555556,\"#d8576b\"],[0.6666666666666666,\"#ed7953\"],[0.7777777777777778,\"#fb9f3a\"],[0.8888888888888888,\"#fdca26\"],[1.0,\"#f0f921\"]]}],\"contourcarpet\":[{\"type\":\"contourcarpet\",\"colorbar\":{\"outlinewidth\":0,\"ticks\":\"\"}}],\"contour\":[{\"type\":\"contour\",\"colorbar\":{\"outlinewidth\":0,\"ticks\":\"\"},\"colorscale\":[[0.0,\"#0d0887\"],[0.1111111111111111,\"#46039f\"],[0.2222222222222222,\"#7201a8\"],[0.3333333333333333,\"#9c179e\"],[0.4444444444444444,\"#bd3786\"],[0.5555555555555556,\"#d8576b\"],[0.6666666666666666,\"#ed7953\"],[0.7777777777777778,\"#fb9f3a\"],[0.8888888888888888,\"#fdca26\"],[1.0,\"#f0f921\"]]}],\"surface\":[{\"type\":\"surface\",\"colorbar\":{\"outlinewidth\":0,\"ticks\":\"\"},\"colorscale\":[[0.0,\"#0d0887\"],[0.1111111111111111,\"#46039f\"],[0.2222222222222222,\"#7201a8\"],[0.3333333333333333,\"#9c179e\"],[0.4444444444444444,\"#bd3786\"],[0.5555555555555556,\"#d8576b\"],[0.6666666666666666,\"#ed7953\"],[0.7777777777777778,\"#fb9f3a\"],[0.8888888888888888,\"#fdca26\"],[1.0,\"#f0f921\"]]}],\"mesh3d\":[{\"type\":\"mesh3d\",\"colorbar\":{\"outlinewidth\":0,\"ticks\":\"\"}}],\"scatter\":[{\"fillpattern\":{\"fillmode\":\"overlay\",\"size\":10,\"solidity\":0.2},\"type\":\"scatter\"}],\"parcoords\":[{\"type\":\"parcoords\",\"line\":{\"colorbar\":{\"outlinewidth\":0,\"ticks\":\"\"}}}],\"scatterpolargl\":[{\"type\":\"scatterpolargl\",\"marker\":{\"colorbar\":{\"outlinewidth\":0,\"ticks\":\"\"}}}],\"bar\":[{\"error_x\":{\"color\":\"#2a3f5f\"},\"error_y\":{\"color\":\"#2a3f5f\"},\"marker\":{\"line\":{\"color\":\"#E5ECF6\",\"width\":0.5},\"pattern\":{\"fillmode\":\"overlay\",\"size\":10,\"solidity\":0.2}},\"type\":\"bar\"}],\"scattergeo\":[{\"type\":\"scattergeo\",\"marker\":{\"colorbar\":{\"outlinewidth\":0,\"ticks\":\"\"}}}],\"scatterpolar\":[{\"type\":\"scatterpolar\",\"marker\":{\"colorbar\":{\"outlinewidth\":0,\"ticks\":\"\"}}}],\"histogram\":[{\"marker\":{\"pattern\":{\"fillmode\":\"overlay\",\"size\":10,\"solidity\":0.2}},\"type\":\"histogram\"}],\"scattergl\":[{\"type\":\"scattergl\",\"marker\":{\"colorbar\":{\"outlinewidth\":0,\"ticks\":\"\"}}}],\"scatter3d\":[{\"type\":\"scatter3d\",\"line\":{\"colorbar\":{\"outlinewidth\":0,\"ticks\":\"\"}},\"marker\":{\"colorbar\":{\"outlinewidth\":0,\"ticks\":\"\"}}}],\"scattermapbox\":[{\"type\":\"scattermapbox\",\"marker\":{\"colorbar\":{\"outlinewidth\":0,\"ticks\":\"\"}}}],\"scatterternary\":[{\"type\":\"scatterternary\",\"marker\":{\"colorbar\":{\"outlinewidth\":0,\"ticks\":\"\"}}}],\"scattercarpet\":[{\"type\":\"scattercarpet\",\"marker\":{\"colorbar\":{\"outlinewidth\":0,\"ticks\":\"\"}}}],\"carpet\":[{\"aaxis\":{\"endlinecolor\":\"#2a3f5f\",\"gridcolor\":\"white\",\"linecolor\":\"white\",\"minorgridcolor\":\"white\",\"startlinecolor\":\"#2a3f5f\"},\"baxis\":{\"endlinecolor\":\"#2a3f5f\",\"gridcolor\":\"white\",\"linecolor\":\"white\",\"minorgridcolor\":\"white\",\"startlinecolor\":\"#2a3f5f\"},\"type\":\"carpet\"}],\"table\":[{\"cells\":{\"fill\":{\"color\":\"#EBF0F8\"},\"line\":{\"color\":\"white\"}},\"header\":{\"fill\":{\"color\":\"#C8D4E3\"},\"line\":{\"color\":\"white\"}},\"type\":\"table\"}],\"barpolar\":[{\"marker\":{\"line\":{\"color\":\"#E5ECF6\",\"width\":0.5},\"pattern\":{\"fillmode\":\"overlay\",\"size\":10,\"solidity\":0.2}},\"type\":\"barpolar\"}],\"pie\":[{\"automargin\":true,\"type\":\"pie\"}]},\"layout\":{\"autotypenumbers\":\"strict\",\"colorway\":[\"#636efa\",\"#EF553B\",\"#00cc96\",\"#ab63fa\",\"#FFA15A\",\"#19d3f3\",\"#FF6692\",\"#B6E880\",\"#FF97FF\",\"#FECB52\"],\"font\":{\"color\":\"#2a3f5f\"},\"hovermode\":\"closest\",\"hoverlabel\":{\"align\":\"left\"},\"paper_bgcolor\":\"white\",\"plot_bgcolor\":\"#E5ECF6\",\"polar\":{\"bgcolor\":\"#E5ECF6\",\"angularaxis\":{\"gridcolor\":\"white\",\"linecolor\":\"white\",\"ticks\":\"\"},\"radialaxis\":{\"gridcolor\":\"white\",\"linecolor\":\"white\",\"ticks\":\"\"}},\"ternary\":{\"bgcolor\":\"#E5ECF6\",\"aaxis\":{\"gridcolor\":\"white\",\"linecolor\":\"white\",\"ticks\":\"\"},\"baxis\":{\"gridcolor\":\"white\",\"linecolor\":\"white\",\"ticks\":\"\"},\"caxis\":{\"gridcolor\":\"white\",\"linecolor\":\"white\",\"ticks\":\"\"}},\"coloraxis\":{\"colorbar\":{\"outlinewidth\":0,\"ticks\":\"\"}},\"colorscale\":{\"sequential\":[[0.0,\"#0d0887\"],[0.1111111111111111,\"#46039f\"],[0.2222222222222222,\"#7201a8\"],[0.3333333333333333,\"#9c179e\"],[0.4444444444444444,\"#bd3786\"],[0.5555555555555556,\"#d8576b\"],[0.6666666666666666,\"#ed7953\"],[0.7777777777777778,\"#fb9f3a\"],[0.8888888888888888,\"#fdca26\"],[1.0,\"#f0f921\"]],\"sequentialminus\":[[0.0,\"#0d0887\"],[0.1111111111111111,\"#46039f\"],[0.2222222222222222,\"#7201a8\"],[0.3333333333333333,\"#9c179e\"],[0.4444444444444444,\"#bd3786\"],[0.5555555555555556,\"#d8576b\"],[0.6666666666666666,\"#ed7953\"],[0.7777777777777778,\"#fb9f3a\"],[0.8888888888888888,\"#fdca26\"],[1.0,\"#f0f921\"]],\"diverging\":[[0,\"#8e0152\"],[0.1,\"#c51b7d\"],[0.2,\"#de77ae\"],[0.3,\"#f1b6da\"],[0.4,\"#fde0ef\"],[0.5,\"#f7f7f7\"],[0.6,\"#e6f5d0\"],[0.7,\"#b8e186\"],[0.8,\"#7fbc41\"],[0.9,\"#4d9221\"],[1,\"#276419\"]]},\"xaxis\":{\"gridcolor\":\"white\",\"linecolor\":\"white\",\"ticks\":\"\",\"title\":{\"standoff\":15},\"zerolinecolor\":\"white\",\"automargin\":true,\"zerolinewidth\":2},\"yaxis\":{\"gridcolor\":\"white\",\"linecolor\":\"white\",\"ticks\":\"\",\"title\":{\"standoff\":15},\"zerolinecolor\":\"white\",\"automargin\":true,\"zerolinewidth\":2},\"scene\":{\"xaxis\":{\"backgroundcolor\":\"#E5ECF6\",\"gridcolor\":\"white\",\"linecolor\":\"white\",\"showbackground\":true,\"ticks\":\"\",\"zerolinecolor\":\"white\",\"gridwidth\":2},\"yaxis\":{\"backgroundcolor\":\"#E5ECF6\",\"gridcolor\":\"white\",\"linecolor\":\"white\",\"showbackground\":true,\"ticks\":\"\",\"zerolinecolor\":\"white\",\"gridwidth\":2},\"zaxis\":{\"backgroundcolor\":\"#E5ECF6\",\"gridcolor\":\"white\",\"linecolor\":\"white\",\"showbackground\":true,\"ticks\":\"\",\"zerolinecolor\":\"white\",\"gridwidth\":2}},\"shapedefaults\":{\"line\":{\"color\":\"#2a3f5f\"}},\"annotationdefaults\":{\"arrowcolor\":\"#2a3f5f\",\"arrowhead\":0,\"arrowwidth\":1},\"geo\":{\"bgcolor\":\"white\",\"landcolor\":\"#E5ECF6\",\"subunitcolor\":\"white\",\"showland\":true,\"showlakes\":true,\"lakecolor\":\"white\"},\"title\":{\"x\":0.05},\"mapbox\":{\"style\":\"light\"}}},\"scene\":{\"domain\":{\"x\":[0.0,1.0],\"y\":[0.0,1.0]},\"xaxis\":{\"title\":{\"text\":\"X\"}},\"yaxis\":{\"title\":{\"text\":\"Y\"}},\"zaxis\":{\"title\":{\"text\":\"Z\"}}},\"coloraxis\":{\"colorbar\":{\"title\":{\"text\":\"Z\"}},\"colorscale\":[[0.0,\"#0d0887\"],[0.1111111111111111,\"#46039f\"],[0.2222222222222222,\"#7201a8\"],[0.3333333333333333,\"#9c179e\"],[0.4444444444444444,\"#bd3786\"],[0.5555555555555556,\"#d8576b\"],[0.6666666666666666,\"#ed7953\"],[0.7777777777777778,\"#fb9f3a\"],[0.8888888888888888,\"#fdca26\"],[1.0,\"#f0f921\"]]},\"legend\":{\"tracegroupgap\":0},\"title\":{\"text\":\"3D Scatter Plot\"}},                        {\"responsive\": true}                    ).then(function(){\n",
              "                            \n",
              "var gd = document.getElementById('8b74bbe3-bb05-45c1-8cce-3bf586ecb100');\n",
              "var x = new MutationObserver(function (mutations, observer) {{\n",
              "        var display = window.getComputedStyle(gd).display;\n",
              "        if (!display || display === 'none') {{\n",
              "            console.log([gd, 'removed!']);\n",
              "            Plotly.purge(gd);\n",
              "            observer.disconnect();\n",
              "        }}\n",
              "}});\n",
              "\n",
              "// Listen for the removal of the full notebook cells\n",
              "var notebookContainer = gd.closest('#notebook-container');\n",
              "if (notebookContainer) {{\n",
              "    x.observe(notebookContainer, {childList: true});\n",
              "}}\n",
              "\n",
              "// Listen for the clearing of the current output cell\n",
              "var outputEl = gd.closest('.output');\n",
              "if (outputEl) {{\n",
              "    x.observe(outputEl, {childList: true});\n",
              "}}\n",
              "\n",
              "                        })                };                            </script>        </div>\n",
              "</body>\n",
              "</html>"
            ]
          },
          "metadata": {}
        }
      ]
    },
    {
      "cell_type": "code",
      "source": [],
      "metadata": {
        "id": "rgPC3TgNaWmX"
      },
      "execution_count": null,
      "outputs": []
    }
  ]
}